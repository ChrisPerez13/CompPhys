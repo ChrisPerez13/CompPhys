{
  "nbformat": 4,
  "nbformat_minor": 0,
  "metadata": {
    "colab": {
      "provenance": [],
      "include_colab_link": true
    },
    "kernelspec": {
      "name": "python3",
      "display_name": "Python 3"
    },
    "language_info": {
      "name": "python"
    }
  },
  "cells": [
    {
      "cell_type": "markdown",
      "metadata": {
        "id": "view-in-github",
        "colab_type": "text"
      },
      "source": [
        "<a href=\"https://colab.research.google.com/github/ChrisPerez13/CompPhys/blob/main/Christopher_Perez_Lab05_Part1__Simple_Harmonic_Motion.ipynb\" target=\"_parent\"><img src=\"https://colab.research.google.com/assets/colab-badge.svg\" alt=\"Open In Colab\"/></a>"
      ]
    },
    {
      "cell_type": "markdown",
      "source": [
        "# Lab 5, Part 1: Collect Data and Plot Solution\n",
        "\n",
        "* In the first part of this week's lab, we will collect data for the position of a mass oscillating on a spring as a function of time.\n",
        "\n",
        "* The general solution to describe the motion of a mass oscillating on a spring is\n",
        "$$ x(t) = A cos(\\omega t - \\phi) $$\n",
        "\n",
        "* Describe the meaning of each term in the table below: (2 points)\n",
        "\n",
        "| Symbol | Name |Units | Description |\n",
        "|----------|----|------|-----|\n",
        "| x        | position | m | position of mass |\n",
        "| A        |    |  |  |\n",
        "| $\\omega$ |    |  |  |\n",
        "| $\\phi$   |    |  |  |"
      ],
      "metadata": {
        "id": "ZK1Mw76krm7m"
      }
    },
    {
      "cell_type": "markdown",
      "source": [
        "## 0. Import modules\n",
        "\n",
        "In the cell below, import numpy and matplotlib"
      ],
      "metadata": {
        "id": "NafHdeP5Ueip"
      }
    },
    {
      "cell_type": "code",
      "execution_count": null,
      "metadata": {
        "id": "eeME0r9BreIV"
      },
      "outputs": [],
      "source": [
        "# import your modules here\n",
        "import numpy as np\n",
        "import matplotlib.pyplot as plt\n"
      ]
    },
    {
      "cell_type": "markdown",
      "source": [
        "## 1. Collecting Your Data\n",
        "\n",
        "* Obtain some position vs. time data for a simple harmonic oscillator (mass on spring).\n",
        "\n",
        "### Procedure\n",
        "\n",
        "(3 pts)\n",
        "\n",
        "* Briefly describe the procedure you used to set up your system and collect your data.  \n",
        "* Take a picture of your experimental setup and upload it here.\n",
        "\n",
        "\n",
        "**Your Answer Here**\n",
        "\n",
        "\n"
      ],
      "metadata": {
        "id": "P9Zb0cNoXT1f"
      }
    },
    {
      "cell_type": "code",
      "source": [],
      "metadata": {
        "id": "DloTzeRzTKOH"
      },
      "execution_count": null,
      "outputs": []
    },
    {
      "cell_type": "markdown",
      "source": [
        "## 2. Upload Data Into Colab\n",
        "\n",
        "(2 points)\n",
        "\n",
        "* In the bottom left of your window, click on the `<>` icon to access `Code snippets`.\n",
        "\n",
        "* Select `Open files from your local file system`, then `Insert`.\n",
        "\n",
        "* Select your data files to upload, and upload them.\n",
        "\n"
      ],
      "metadata": {
        "id": "NmrMf7cAT8Fr"
      }
    },
    {
      "cell_type": "code",
      "source": [
        "# upload your data\n",
        "import pandas as pd\n",
        "from astropy.table import Table\n",
        "\n"
      ],
      "metadata": {
        "id": "z5pK8kkdULlT"
      },
      "execution_count": null,
      "outputs": []
    },
    {
      "cell_type": "code",
      "source": [
        "from google.colab import files\n",
        "\n",
        "uploaded = files.upload()\n",
        "\n",
        "for fn in uploaded.keys():\n",
        "  print('User uploaded file \"{name}\" with length {length} bytes'.format(\n",
        "      name=fn, length=len(uploaded[fn])))"
      ],
      "metadata": {
        "colab": {
          "base_uri": "https://localhost:8080/",
          "height": 92
        },
        "id": "CYxOjLmvJ3DS",
        "outputId": "45a8e57b-3c33-4f40-c997-5a6d56f16bbf"
      },
      "execution_count": null,
      "outputs": [
        {
          "output_type": "display_data",
          "data": {
            "text/plain": [
              "<IPython.core.display.HTML object>"
            ],
            "text/html": [
              "\n",
              "     <input type=\"file\" id=\"files-b2323605-dd97-41aa-9d51-ca2297096ee9\" name=\"files[]\" multiple disabled\n",
              "        style=\"border:none\" />\n",
              "     <output id=\"result-b2323605-dd97-41aa-9d51-ca2297096ee9\">\n",
              "      Upload widget is only available when the cell has been executed in the\n",
              "      current browser session. Please rerun this cell to enable.\n",
              "      </output>\n",
              "      <script>// Copyright 2017 Google LLC\n",
              "//\n",
              "// Licensed under the Apache License, Version 2.0 (the \"License\");\n",
              "// you may not use this file except in compliance with the License.\n",
              "// You may obtain a copy of the License at\n",
              "//\n",
              "//      http://www.apache.org/licenses/LICENSE-2.0\n",
              "//\n",
              "// Unless required by applicable law or agreed to in writing, software\n",
              "// distributed under the License is distributed on an \"AS IS\" BASIS,\n",
              "// WITHOUT WARRANTIES OR CONDITIONS OF ANY KIND, either express or implied.\n",
              "// See the License for the specific language governing permissions and\n",
              "// limitations under the License.\n",
              "\n",
              "/**\n",
              " * @fileoverview Helpers for google.colab Python module.\n",
              " */\n",
              "(function(scope) {\n",
              "function span(text, styleAttributes = {}) {\n",
              "  const element = document.createElement('span');\n",
              "  element.textContent = text;\n",
              "  for (const key of Object.keys(styleAttributes)) {\n",
              "    element.style[key] = styleAttributes[key];\n",
              "  }\n",
              "  return element;\n",
              "}\n",
              "\n",
              "// Max number of bytes which will be uploaded at a time.\n",
              "const MAX_PAYLOAD_SIZE = 100 * 1024;\n",
              "\n",
              "function _uploadFiles(inputId, outputId) {\n",
              "  const steps = uploadFilesStep(inputId, outputId);\n",
              "  const outputElement = document.getElementById(outputId);\n",
              "  // Cache steps on the outputElement to make it available for the next call\n",
              "  // to uploadFilesContinue from Python.\n",
              "  outputElement.steps = steps;\n",
              "\n",
              "  return _uploadFilesContinue(outputId);\n",
              "}\n",
              "\n",
              "// This is roughly an async generator (not supported in the browser yet),\n",
              "// where there are multiple asynchronous steps and the Python side is going\n",
              "// to poll for completion of each step.\n",
              "// This uses a Promise to block the python side on completion of each step,\n",
              "// then passes the result of the previous step as the input to the next step.\n",
              "function _uploadFilesContinue(outputId) {\n",
              "  const outputElement = document.getElementById(outputId);\n",
              "  const steps = outputElement.steps;\n",
              "\n",
              "  const next = steps.next(outputElement.lastPromiseValue);\n",
              "  return Promise.resolve(next.value.promise).then((value) => {\n",
              "    // Cache the last promise value to make it available to the next\n",
              "    // step of the generator.\n",
              "    outputElement.lastPromiseValue = value;\n",
              "    return next.value.response;\n",
              "  });\n",
              "}\n",
              "\n",
              "/**\n",
              " * Generator function which is called between each async step of the upload\n",
              " * process.\n",
              " * @param {string} inputId Element ID of the input file picker element.\n",
              " * @param {string} outputId Element ID of the output display.\n",
              " * @return {!Iterable<!Object>} Iterable of next steps.\n",
              " */\n",
              "function* uploadFilesStep(inputId, outputId) {\n",
              "  const inputElement = document.getElementById(inputId);\n",
              "  inputElement.disabled = false;\n",
              "\n",
              "  const outputElement = document.getElementById(outputId);\n",
              "  outputElement.innerHTML = '';\n",
              "\n",
              "  const pickedPromise = new Promise((resolve) => {\n",
              "    inputElement.addEventListener('change', (e) => {\n",
              "      resolve(e.target.files);\n",
              "    });\n",
              "  });\n",
              "\n",
              "  const cancel = document.createElement('button');\n",
              "  inputElement.parentElement.appendChild(cancel);\n",
              "  cancel.textContent = 'Cancel upload';\n",
              "  const cancelPromise = new Promise((resolve) => {\n",
              "    cancel.onclick = () => {\n",
              "      resolve(null);\n",
              "    };\n",
              "  });\n",
              "\n",
              "  // Wait for the user to pick the files.\n",
              "  const files = yield {\n",
              "    promise: Promise.race([pickedPromise, cancelPromise]),\n",
              "    response: {\n",
              "      action: 'starting',\n",
              "    }\n",
              "  };\n",
              "\n",
              "  cancel.remove();\n",
              "\n",
              "  // Disable the input element since further picks are not allowed.\n",
              "  inputElement.disabled = true;\n",
              "\n",
              "  if (!files) {\n",
              "    return {\n",
              "      response: {\n",
              "        action: 'complete',\n",
              "      }\n",
              "    };\n",
              "  }\n",
              "\n",
              "  for (const file of files) {\n",
              "    const li = document.createElement('li');\n",
              "    li.append(span(file.name, {fontWeight: 'bold'}));\n",
              "    li.append(span(\n",
              "        `(${file.type || 'n/a'}) - ${file.size} bytes, ` +\n",
              "        `last modified: ${\n",
              "            file.lastModifiedDate ? file.lastModifiedDate.toLocaleDateString() :\n",
              "                                    'n/a'} - `));\n",
              "    const percent = span('0% done');\n",
              "    li.appendChild(percent);\n",
              "\n",
              "    outputElement.appendChild(li);\n",
              "\n",
              "    const fileDataPromise = new Promise((resolve) => {\n",
              "      const reader = new FileReader();\n",
              "      reader.onload = (e) => {\n",
              "        resolve(e.target.result);\n",
              "      };\n",
              "      reader.readAsArrayBuffer(file);\n",
              "    });\n",
              "    // Wait for the data to be ready.\n",
              "    let fileData = yield {\n",
              "      promise: fileDataPromise,\n",
              "      response: {\n",
              "        action: 'continue',\n",
              "      }\n",
              "    };\n",
              "\n",
              "    // Use a chunked sending to avoid message size limits. See b/62115660.\n",
              "    let position = 0;\n",
              "    do {\n",
              "      const length = Math.min(fileData.byteLength - position, MAX_PAYLOAD_SIZE);\n",
              "      const chunk = new Uint8Array(fileData, position, length);\n",
              "      position += length;\n",
              "\n",
              "      const base64 = btoa(String.fromCharCode.apply(null, chunk));\n",
              "      yield {\n",
              "        response: {\n",
              "          action: 'append',\n",
              "          file: file.name,\n",
              "          data: base64,\n",
              "        },\n",
              "      };\n",
              "\n",
              "      let percentDone = fileData.byteLength === 0 ?\n",
              "          100 :\n",
              "          Math.round((position / fileData.byteLength) * 100);\n",
              "      percent.textContent = `${percentDone}% done`;\n",
              "\n",
              "    } while (position < fileData.byteLength);\n",
              "  }\n",
              "\n",
              "  // All done.\n",
              "  yield {\n",
              "    response: {\n",
              "      action: 'complete',\n",
              "    }\n",
              "  };\n",
              "}\n",
              "\n",
              "scope.google = scope.google || {};\n",
              "scope.google.colab = scope.google.colab || {};\n",
              "scope.google.colab._files = {\n",
              "  _uploadFiles,\n",
              "  _uploadFilesContinue,\n",
              "};\n",
              "})(self);\n",
              "</script> "
            ]
          },
          "metadata": {}
        },
        {
          "output_type": "stream",
          "name": "stdout",
          "text": [
            "Saving csv-export (4).csv to csv-export (4) (2).csv\n",
            "User uploaded file \"csv-export (4) (2).csv\" with length 10 bytes\n"
          ]
        }
      ]
    },
    {
      "cell_type": "code",
      "source": [
        "# use astropy to read in your data file\n",
        "data = Table.read(\"csv-export (4).csv\",format='csv')\n",
        "data"
      ],
      "metadata": {
        "id": "tIUWr5mfXEys",
        "colab": {
          "base_uri": "https://localhost:8080/",
          "height": 565
        },
        "outputId": "150c4532-9bfd-4dca-c8d9-1c0fd27d41d0"
      },
      "execution_count": null,
      "outputs": [
        {
          "output_type": "execute_result",
          "data": {
            "text/plain": [
              "<Table length=101>\n",
              "Data Set 1:Time(s) Data Set 1:Position(m) ... Data Set 6:Acceleration(m/s²)\n",
              "     float64              float64         ...            float64           \n",
              "------------------ ---------------------- ... -----------------------------\n",
              "               0.0      0.391400009393692 ...            0.7857272801575839\n",
              "              0.05    0.42750000953674316 ...            0.9549197168261917\n",
              "               0.1     0.4745999872684479 ...            1.1840749669958044\n",
              "              0.15     0.5267999768257141 ...            1.3796800595742684\n",
              "               0.2     0.5806999802589417 ...             1.378340533486119\n",
              "              0.25     0.6328999996185303 ...            1.2065256672140994\n",
              "               0.3     0.6809999942779541 ...             0.973858583120652\n",
              "              0.35     0.6901999711990356 ...             0.676850330682448\n",
              "               0.4     0.7300999760627747 ...            0.3848745315163225\n",
              "              0.45     0.7595999836921692 ...           0.12308699481281266\n",
              "               ...                    ... ...                           ...\n",
              "              4.55     0.6891999840736389 ...            -1.208025456210719\n",
              "               4.6     0.6863999962806702 ...            -1.368610947220412\n",
              "              4.65     0.6442000269889832 ...           -1.3712656350783332\n",
              "               4.7     0.5964999794960022 ...           -1.2714202021375154\n",
              "              4.75     0.5462999939918518 ...           -1.1232472974577092\n",
              "               4.8    0.49619999527931213 ...           -0.8981653992776467\n",
              "              4.85     0.4505000114440918 ...           -0.6619665891299941\n",
              "               4.9     0.4138000011444092 ...          -0.47114646545163313\n",
              "              4.95     0.3903999924659729 ...           -0.3193274526684482\n",
              "               5.0     0.3781000077724457 ...          -0.22336022721397727"
            ],
            "text/html": [
              "<div><i>Table length=101</i>\n",
              "<table id=\"table136867461679904\" class=\"table-striped table-bordered table-condensed\">\n",
              "<thead><tr><th>Data Set 1:Time(s)</th><th>Data Set 1:Position(m)</th><th>Data Set 1:Velocity(m/s)</th><th>Data Set 1:Acceleration(m/s²)</th><th>Data Set 2:Time(s)</th><th>Data Set 2:Position(m)</th><th>Data Set 2:Velocity(m/s)</th><th>Data Set 2:Acceleration(m/s²)</th><th>Data Set 3:Time(s)</th><th>Data Set 3:Position(m)</th><th>Data Set 3:Velocity(m/s)</th><th>Data Set 3:Acceleration(m/s²)</th><th>Data Set 4:Time(s)</th><th>Data Set 4:Position(m)</th><th>Data Set 4:Velocity(m/s)</th><th>Data Set 4:Acceleration(m/s²)</th><th>Data Set 5:Time(s)</th><th>Data Set 5:Position(m)</th><th>Data Set 5:Velocity(m/s)</th><th>Data Set 5:Acceleration(m/s²)</th><th>Data Set 6:Time(s)</th><th>Data Set 6:Position(m)</th><th>Data Set 6:Velocity(m/s)</th><th>Data Set 6:Acceleration(m/s²)</th></tr></thead>\n",
              "<thead><tr><th>float64</th><th>float64</th><th>float64</th><th>float64</th><th>float64</th><th>float64</th><th>float64</th><th>float64</th><th>float64</th><th>float64</th><th>float64</th><th>float64</th><th>float64</th><th>float64</th><th>float64</th><th>float64</th><th>float64</th><th>float64</th><th>float64</th><th>float64</th><th>float64</th><th>float64</th><th>float64</th><th>float64</th></tr></thead>\n",
              "<tr><td>0.0</td><td>0.391400009393692</td><td>0.7887776692708334</td><td>1.7448443781446528</td><td>0.0</td><td>0.4569999873638153</td><td>-0.6113330192036098</td><td>2.422743185802741</td><td>0.0</td><td>0.65829998254776</td><td>0.039000511169433594</td><td>0.16869073664700543</td><td>0.0</td><td>0.6187999844551086</td><td>0.18933388921949598</td><td>-0.9858751848891926</td><td>0.0</td><td>0.6877999901771545</td><td>-0.4389996661080255</td><td>-1.0092217797114522</td><td>0.0</td><td>0.5388000011444092</td><td>-0.1500000556310018</td><td>0.7857272801575839</td></tr>\n",
              "<tr><td>0.05</td><td>0.42750000953674316</td><td>0.8746386816104254</td><td>1.6584873889331462</td><td>0.05</td><td>0.42340001463890076</td><td>-0.5117499166064793</td><td>3.026555969759269</td><td>0.05</td><td>0.6600000262260437</td><td>0.046583463748296104</td><td>0.1802325083149804</td><td>0.05</td><td>0.629800021648407</td><td>0.14491698808140227</td><td>-1.078162165703597</td><td>0.05</td><td>0.667900025844574</td><td>-0.48975002434518605</td><td>-0.9460189782175014</td><td>0.05</td><td>0.5302000045776367</td><td>-0.11650015910466512</td><td>0.9549197168261917</td></tr>\n",
              "<tr><td>0.1</td><td>0.4745999872684479</td><td>0.972999781370163</td><td>1.266195644383077</td><td>0.1</td><td>0.3982999920845032</td><td>-0.34700000286102295</td><td>3.821100410487917</td><td>0.1</td><td>0.6624000072479248</td><td>0.057433128356933594</td><td>0.17441485215116428</td><td>0.1</td><td>0.6363000273704529</td><td>0.08226670821507771</td><td>-1.1300872818187433</td><td>0.1</td><td>0.6410999894142151</td><td>-0.5447002251942953</td><td>-0.7466019634847286</td><td>0.1</td><td>0.5249999761581421</td><td>-0.0658000906308492</td><td>1.1840749669958044</td></tr>\n",
              "<tr><td>0.15</td><td>0.5267999768257141</td><td>1.033722162246704</td><td>0.23693104309064408</td><td>0.15</td><td>0.38530001044273376</td><td>-0.12011112438307868</td><td>4.41634167123724</td><td>0.15</td><td>0.6657999753952026</td><td>0.0672777493794759</td><td>0.11451645213880661</td><td>0.15</td><td>0.6377000212669373</td><td>0.022999876075320776</td><td>-1.042925062370889</td><td>0.15</td><td>0.6118999719619751</td><td>-0.5734443664550781</td><td>-0.38419916857907777</td><td>0.15</td><td>0.522599995136261</td><td>0.003055532773335775</td><td>1.3796800595742684</td></tr>\n",
              "<tr><td>0.2</td><td>0.5806999802589417</td><td>1.0204445487923093</td><td>-1.2767122069626673</td><td>0.2</td><td>0.3862999975681305</td><td>0.12461099359724258</td><td>4.438287030767512</td><td>0.2</td><td>0.6696000099182129</td><td>0.06927784946229723</td><td>0.03654701658237134</td><td>0.2</td><td>0.6373000144958496</td><td>-0.018500255213843454</td><td>-1.0082677871356778</td><td>0.2</td><td>0.5827000141143799</td><td>-0.5814998845259348</td><td>0.008620045803210777</td><td>0.2</td><td>0.5249999761581421</td><td>0.08255557881461249</td><td>1.378340533486119</td></tr>\n",
              "<tr><td>0.25</td><td>0.6328999996185303</td><td>0.9157778322696687</td><td>-2.7842603899814464</td><td>0.25</td><td>0.39899998903274536</td><td>0.3431666228506301</td><td>3.9973160587711103</td><td>0.25</td><td>0.6726999878883362</td><td>0.0697223014301724</td><td>-0.03264852512029955</td><td>0.25</td><td>0.6366999745368958</td><td>-0.07183333237965903</td><td>-1.0622444417741566</td><td>0.25</td><td>0.5534999966621399</td><td>-0.5749444994661544</td><td>0.4886289621576851</td><td>0.25</td><td>0.5315999984741211</td><td>0.1480556196636624</td><td>1.2065256672140994</td></tr>\n",
              "<tr><td>0.3</td><td>0.6809999942779541</td><td>0.6648331880569459</td><td>-2.8671919379705284</td><td>0.3</td><td>0.421999990940094</td><td>0.5288334025277033</td><td>3.397100060074416</td><td>0.3</td><td>0.6765000224113464</td><td>0.06911112202538384</td><td>-0.15339612224955626</td><td>0.3</td><td>0.6305000185966492</td><td>-0.1307775908046299</td><td>-1.0102155031981288</td><td>0.3</td><td>0.524399995803833</td><td>-0.5437778102027045</td><td>1.1836731231506972</td><td>0.3</td><td>0.5400999784469604</td><td>0.2045556902885437</td><td>0.973858583120652</td></tr>\n",
              "<tr><td>0.35</td><td>0.6901999711990356</td><td>0.5625554588105942</td><td>-1.8206774084656343</td><td>0.35</td><td>0.45329999923706055</td><td>0.6801667975054846</td><td>2.795771996916074</td><td>0.35</td><td>0.6802999973297119</td><td>0.05533314413494533</td><td>-0.2791039737654321</td><td>0.35</td><td>0.6229000091552734</td><td>-0.1773332556088765</td><td>-0.8643537391850974</td><td>0.35</td><td>0.4968999922275543</td><td>-0.46349998977449197</td><td>2.0005562883100394</td><td>0.35</td><td>0.5525000095367432</td><td>0.24844467639923093</td><td>0.676850330682448</td></tr>\n",
              "<tr><td>0.4</td><td>0.7300999760627747</td><td>0.5753334363301593</td><td>-2.3458311495221684</td><td>0.4</td><td>0.49070000648498535</td><td>0.809333456887139</td><td>2.112375705698389</td><td>0.4</td><td>0.6822999715805054</td><td>0.03600014580620659</td><td>-0.29845452970928604</td><td>0.4</td><td>0.6126000285148621</td><td>-0.2182778716087341</td><td>-0.6697555934941328</td><td>0.4</td><td>0.47589999437332153</td><td>-0.3344998922612931</td><td>2.6281172938552895</td><td>0.4</td><td>0.5659000277519226</td><td>0.27177767621146304</td><td>0.3848745315163225</td></tr>\n",
              "<tr><td>0.45</td><td>0.7595999836921692</td><td>0.3871113724178738</td><td>-3.9604010037433945</td><td>0.45</td><td>0.5353000164031982</td><td>0.9075000219874911</td><td>0.9948442471616071</td><td>0.45</td><td>0.6837000250816345</td><td>0.020500255955590144</td><td>-0.21287057502770126</td><td>0.45</td><td>0.600600004196167</td><td>-0.24655587143368193</td><td>-0.41515477645544374</td><td>0.45</td><td>0.4629000127315521</td><td>-0.18683330880271065</td><td>2.936542245708866</td><td>0.45</td><td>0.5799999833106995</td><td>0.2848331795798408</td><td>0.12308699481281266</td></tr>\n",
              "<tr><td>...</td><td>...</td><td>...</td><td>...</td><td>...</td><td>...</td><td>...</td><td>...</td><td>...</td><td>...</td><td>...</td><td>...</td><td>...</td><td>...</td><td>...</td><td>...</td><td>...</td><td>...</td><td>...</td><td>...</td><td>...</td><td>...</td><td>...</td><td>...</td></tr>\n",
              "<tr><td>4.55</td><td>0.6891999840736389</td><td>-0.10711120234595399</td><td>-4.14043037611761</td><td>4.55</td><td>0.6847000122070312</td><td>0.05794455607732132</td><td>-2.8564203576541316</td><td>--</td><td>--</td><td>--</td><td>--</td><td>4.55</td><td>0.5425999760627747</td><td>-0.15522221724192325</td><td>1.0176238822348387</td><td>4.55</td><td>0.5065000057220459</td><td>0.4294443627198545</td><td>1.6205239535113796</td><td>4.55</td><td>0.6384000182151794</td><td>0.1316109961933562</td><td>-1.208025456210719</td></tr>\n",
              "<tr><td>4.6</td><td>0.6863999962806702</td><td>-0.448722077740562</td><td>-5.55086394335014</td><td>4.6</td><td>0.6854000091552734</td><td>0.007222294807434083</td><td>-1.1475622653961175</td><td>--</td><td>--</td><td>--</td><td>--</td><td>4.6</td><td>0.5360000133514404</td><td>-0.09761108292473658</td><td>1.1551541862664394</td><td>4.6</td><td>0.5295000076293945</td><td>0.49916651513841276</td><td>1.1866051565717624</td><td>4.6</td><td>0.6438999772071838</td><td>0.062444441848330846</td><td>-1.368610947220412</td></tr>\n",
              "<tr><td>4.65</td><td>0.6442000269889832</td><td>-0.7923889656861597</td><td>-4.416605995761029</td><td>4.65</td><td>0.6851000189781189</td><td>-0.0076666143205430595</td><td>-0.3364819251460793</td><td>--</td><td>--</td><td>--</td><td>--</td><td>4.65</td><td>0.5325999855995178</td><td>-0.03500007920795007</td><td>1.1761424166184848</td><td>4.65</td><td>0.5569999814033508</td><td>0.550777696900896</td><td>0.691513827553513</td><td>4.65</td><td>0.6449000239372253</td><td>-0.012666682402292838</td><td>-1.3712656350783332</td></tr>\n",
              "<tr><td>4.7</td><td>0.5964999794960022</td><td>-0.9391112625598922</td><td>-2.091048713083653</td><td>4.7</td><td>0.6847000122070312</td><td>-0.007499953111012799</td><td>-0.1346920375470759</td><td>--</td><td>--</td><td>--</td><td>--</td><td>4.7</td><td>0.5325999855995178</td><td>0.025000141726599853</td><td>1.0924382158267665</td><td>4.7</td><td>0.5857999920845032</td><td>0.5732779039276981</td><td>0.06888950312580992</td><td>4.7</td><td>0.6420999765396118</td><td>-0.07855557733111923</td><td>-1.2714202021375154</td></tr>\n",
              "<tr><td>4.75</td><td>0.5462999939918518</td><td>-0.9757777220673057</td><td>-0.017541849318845986</td><td>4.75</td><td>0.6837000250816345</td><td>-0.0028333067893981795</td><td>-0.5742731800785759</td><td>--</td><td>--</td><td>--</td><td>--</td><td>4.75</td><td>0.5357000231742859</td><td>0.07422218720118225</td><td>0.9985790171740984</td><td>4.75</td><td>0.6154000163078308</td><td>0.5651666389571312</td><td>-0.7398151229193194</td><td>4.75</td><td>0.6370000243186951</td><td>-0.14094452063242632</td><td>-1.1232472974577092</td></tr>\n",
              "<tr><td>4.8</td><td>0.49619999527931213</td><td>-0.9244998958375734</td><td>1.6594538442146944</td><td>4.8</td><td>0.6837000250816345</td><td>-0.013611283567216576</td><td>-2.047353300415439</td><td>--</td><td>--</td><td>--</td><td>--</td><td>4.8</td><td>0.5400999784469604</td><td>0.12094431453280996</td><td>0.9583026244316541</td><td>4.8</td><td>0.6438999772071838</td><td>0.5108333296246007</td><td>-1.7317898295543996</td><td>4.8</td><td>0.6276999711990356</td><td>-0.19466681612862513</td><td>-0.8981653992776467</td></tr>\n",
              "<tr><td>4.85</td><td>0.4505000114440918</td><td>-0.7931666241751754</td><td>2.8143789297268835</td><td>4.85</td><td>0.6888999938964844</td><td>-0.16550014416376732</td><td>-4.164834094268286</td><td>--</td><td>--</td><td>--</td><td>--</td><td>4.85</td><td>0.5473999977111816</td><td>0.1724999811914227</td><td>0.8654028030089326</td><td>4.85</td><td>0.6696000099182129</td><td>0.3889445463816313</td><td>-2.559074658302615</td><td>4.85</td><td>0.6166999936103821</td><td>-0.23111104965209894</td><td>-0.6619665891299941</td></tr>\n",
              "<tr><td>4.9</td><td>0.4138000011444092</td><td>-0.6094667315483075</td><td>3.2157871899781205</td><td>4.9</td><td>0.6779000163078308</td><td>-0.49796686569849485</td><td>-4.991093382791233</td><td>--</td><td>--</td><td>--</td><td>--</td><td>4.9</td><td>0.557699978351593</td><td>0.21383341153462662</td><td>0.6704651095249061</td><td>4.9</td><td>0.6861000061035156</td><td>0.21499991416931097</td><td>-2.6034639113479074</td><td>4.9</td><td>0.6043999791145325</td><td>-0.259066442648569</td><td>-0.47114646545163313</td></tr>\n",
              "<tr><td>4.95</td><td>0.3903999924659729</td><td>-0.4378055201636422</td><td>2.982874978103739</td><td>4.95</td><td>0.6341999769210815</td><td>-0.7575002809365602</td><td>-4.22799057982589</td><td>--</td><td>--</td><td>--</td><td>--</td><td>4.95</td><td>0.5697000026702881</td><td>0.23894468943278016</td><td>0.481190059655988</td><td>4.95</td><td>0.6877999901771545</td><td>0.09438880615764185</td><td>-2.028472188078323</td><td>4.95</td><td>0.5903000235557556</td><td>-0.2763330439726514</td><td>-0.3193274526684482</td></tr>\n",
              "<tr><td>5.0</td><td>0.3781000077724457</td><td>-0.32244427336586917</td><td>2.633378829485094</td><td>5.0</td><td>0.5874999761581421</td><td>-0.8810001611709618</td><td>-3.306776472815796</td><td>--</td><td>--</td><td>--</td><td>--</td><td>5.0</td><td>0.5827000141143799</td><td>0.25255580743153955</td><td>0.35413675102187864</td><td>5.0</td><td>0.6888999938964844</td><td>0.0417777564790514</td><td>-1.4892585667563056</td><td>5.0</td><td>0.5759000182151794</td><td>-0.28433322906494213</td><td>-0.22336022721397727</td></tr>\n",
              "</table></div>"
            ]
          },
          "metadata": {},
          "execution_count": 46
        }
      ]
    },
    {
      "cell_type": "markdown",
      "source": [
        "* Save the time and position variables as more conveniently named arrays\n",
        "* Subtract the average from the position"
      ],
      "metadata": {
        "id": "fY7tdyeU_7F7"
      }
    },
    {
      "cell_type": "code",
      "source": [
        "# save the time and position data\n",
        "time = data[\"Data Set 4:Time(s)\"]\n",
        "position = data[\"Data Set 4:Position(m)\"]\n",
        "\n",
        "# subtract the mean of the position from the position\n",
        "avgpos= np.mean(data[\"Data Set 4:Position(m)\"])- data[\"Data Set 4:Position(m)\"]"
      ],
      "metadata": {
        "id": "ufhAHyxIADtO"
      },
      "execution_count": null,
      "outputs": []
    },
    {
      "cell_type": "markdown",
      "source": [
        "## 3. Visualize and Analyze Your Data\n",
        "\n",
        "(5 points)\n",
        "\n",
        "### Plot Your Data\n",
        "* Make a plot of position vs. time using python."
      ],
      "metadata": {
        "id": "n2Xw_xWQXtVV"
      }
    },
    {
      "cell_type": "code",
      "source": [
        "# code to plot your position vs time data here\n",
        "plt.plot(time,avgpos)"
      ],
      "metadata": {
        "id": "QmLCfqztXn8Z",
        "colab": {
          "base_uri": "https://localhost:8080/",
          "height": 448
        },
        "outputId": "b6fd3f20-cf23-4e9f-f1b2-bd3a87b206ee"
      },
      "execution_count": null,
      "outputs": [
        {
          "output_type": "execute_result",
          "data": {
            "text/plain": [
              "[<matplotlib.lines.Line2D at 0x7c7aee130580>]"
            ]
          },
          "metadata": {},
          "execution_count": 57
        },
        {
          "output_type": "display_data",
          "data": {
            "text/plain": [
              "<Figure size 640x480 with 1 Axes>"
            ],
            "image/png": "[encoded data removed]"
          },
          "metadata": {}
        }
      ]
    },
    {
      "cell_type": "markdown",
      "source": [
        "### Determine Parameters of Analytic Solution\n",
        "\n",
        "\n",
        "\n",
        "* From your plot of position vs time, you should be to estimate the amplitude $A$ and the period $T$ of the motion.\n",
        "\n",
        "* Briefly describe how you measured these values, and enter your values in the cell below.\n",
        "\n"
      ],
      "metadata": {
        "id": "TBh_18kBYHow"
      }
    },
    {
      "cell_type": "code",
      "source": [
        "# values of period and amplitude from the graph\n",
        "\n",
        "A = 0.056  # amplitude in m\n",
        "T = 1.3 # period in sec\n",
        "phi=.8462"
      ],
      "metadata": {
        "id": "o0y0vGx1XJu5"
      },
      "execution_count": null,
      "outputs": []
    },
    {
      "cell_type": "markdown",
      "source": [
        "#### Calculate $\\omega$\n",
        "\n",
        "In the cell below, calculate $\\omega$ from your measured value of the period."
      ],
      "metadata": {
        "id": "Ulkiy1TvaRa0"
      }
    },
    {
      "cell_type": "code",
      "source": [
        "# calculate omega\n",
        "\n",
        "omega = 2*np.pi/T"
      ],
      "metadata": {
        "id": "XXGYNTctafGR"
      },
      "execution_count": null,
      "outputs": []
    },
    {
      "cell_type": "code",
      "source": [],
      "metadata": {
        "id": "VNaqABr95OJz"
      },
      "execution_count": null,
      "outputs": []
    },
    {
      "cell_type": "markdown",
      "source": [
        "#### Plot data and Analytic Solution\n",
        "\n",
        "(5 points)\n",
        "\n",
        "* copy your code for plotting the position versus time\n",
        "* add code to overplot the analytic solution\n",
        "\n",
        "* Determine the best value of $\\phi$ using trial and error.\n"
      ],
      "metadata": {
        "id": "JFt_8Jedajn8"
      }
    },
    {
      "cell_type": "code",
      "source": [
        "# write a function to calculate the position of the SHO\n",
        "# input = A, omega, phi, t\n",
        "# return = position\n",
        "def calculate( A,omega,phi,time):\n",
        "  x= A*np.cos(omega*time-phi)\n",
        "  return x\n",
        "x=calculate( A,omega,phi,time)"
      ],
      "metadata": {
        "id": "88i_g351ch6S"
      },
      "execution_count": null,
      "outputs": []
    },
    {
      "cell_type": "code",
      "source": [
        "# enter your code to plot your data and analytic solution\n",
        "# be sure to use your function\n",
        "\n",
        "plt.plot(time,x,label=\"Analytic Solution\")\n",
        "plt.scatter(time,-avgpos,label=\"Measured Data\",color=\"r\")\n",
        "plt.legend()\n",
        "plt.xlabel(\"Time(s)\")\n",
        "plt.ylabel(\"Position(m)\")\n"
      ],
      "metadata": {
        "id": "5o1SWI6Qbf-P",
        "colab": {
          "base_uri": "https://localhost:8080/",
          "height": 469
        },
        "outputId": "a2813413-a955-4b7f-8153-4193c215f1b5"
      },
      "execution_count": null,
      "outputs": [
        {
          "output_type": "execute_result",
          "data": {
            "text/plain": [
              "Text(0, 0.5, 'Position(m)')"
            ]
          },
          "metadata": {},
          "execution_count": 96
        },
        {
          "output_type": "display_data",
          "data": {
            "text/plain": [
              "<Figure size 640x480 with 1 Axes>"
            ],
            "image/png": "[encoded data removed]"
          },
          "metadata": {}
        }
      ]
    },
    {
      "cell_type": "markdown",
      "source": [
        "#### Calculate the spring constant and intial conditions\n",
        "\n",
        "(3 points)\n",
        "\n",
        "From your fit, and anything else you need to measure, determine:\n",
        "* the spring constant, $k$\n",
        "* the initial position, $x_0$\n",
        "* the initial velocity, $v_{x0}$\n"
      ],
      "metadata": {
        "id": "v0V5odRwboVz"
      }
    },
    {
      "cell_type": "code",
      "source": [
        "m=.100 #kg\n",
        "# calculate spring constant\n",
        "k=omega**2*m\n",
        "k"
      ],
      "metadata": {
        "id": "ikiC5Gq1bvjO",
        "colab": {
          "base_uri": "https://localhost:8080/"
        },
        "outputId": "cb1913cf-2177-4bfa-cff6-0acc2fa1fb72"
      },
      "execution_count": null,
      "outputs": [
        {
          "output_type": "execute_result",
          "data": {
            "text/plain": [
              "2.3360010416779544"
            ]
          },
          "metadata": {},
          "execution_count": 101
        }
      ]
    },
    {
      "cell_type": "code",
      "source": [
        "# calculate intial position here\n",
        "xi=A*np.cos(-phi)\n",
        "xi"
      ],
      "metadata": {
        "id": "sLlL5KKscVQ8",
        "colab": {
          "base_uri": "https://localhost:8080/"
        },
        "outputId": "411027f2-a1b6-4e5e-f80b-b184da7d68b0"
      },
      "execution_count": null,
      "outputs": [
        {
          "output_type": "execute_result",
          "data": {
            "text/plain": [
              "0.037118661410948946"
            ]
          },
          "metadata": {},
          "execution_count": 105
        }
      ]
    },
    {
      "cell_type": "code",
      "source": [
        "# calculate the intial velocity here\n",
        "vmax=A*omega\n",
        "vi=(-vmax)*np.sin(omega*T+phi)\n",
        "vi\n"
      ],
      "metadata": {
        "id": "eVME23gdcYou",
        "colab": {
          "base_uri": "https://localhost:8080/"
        },
        "outputId": "893f0d8b-a6f2-4daa-f6f8-fd4e1c10a280"
      },
      "execution_count": null,
      "outputs": [
        {
          "output_type": "execute_result",
          "data": {
            "text/plain": [
              "-0.20266150727807056"
            ]
          },
          "metadata": {},
          "execution_count": 106
        }
      ]
    }
  ]
}