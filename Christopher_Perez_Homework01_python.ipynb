{
  "nbformat": 4,
  "nbformat_minor": 0,
  "metadata": {
    "colab": {
      "provenance": [],
      "include_colab_link": true
    },
    "kernelspec": {
      "name": "python3",
      "display_name": "Python 3"
    },
    "language_info": {
      "name": "python"
    }
  },
  "cells": [
    {
      "cell_type": "markdown",
      "metadata": {
        "id": "view-in-github",
        "colab_type": "text"
      },
      "source": [
        "<a href=\"https://colab.research.google.com/github/ChrisPerez13/CompPhys/blob/main/Christopher_Perez_Homework01_python.ipynb\" target=\"_parent\"><img src=\"https://colab.research.google.com/assets/colab-badge.svg\" alt=\"Open In Colab\"/></a>"
      ]
    },
    {
      "cell_type": "markdown",
      "source": [
        "# Directions\n",
        "\n",
        "* Complete each problem below.  You can discuss the problems with others, but you need to write the code yourself.\n",
        "* Be sure to add a comment string at the beginning of each function that you write.\n",
        "* Include comments throughout your code.\n",
        "* Use descriptive names for your variables.\n",
        "\n",
        "\n",
        "# Submitting Your Notebook\n",
        "\n",
        "* Be sure to share your notebook with me.\n",
        "* Submit the link to the notebook to canvas. (Share -> Copy Link)"
      ],
      "metadata": {
        "id": "xp-nbS8TO7U-"
      }
    },
    {
      "cell_type": "code",
      "source": [
        "import numpy as np\n",
        "import math\n",
        "import matplotlib.pyplot as plt\n"
      ],
      "metadata": {
        "id": "HKys6YsfMboO"
      },
      "execution_count": 16,
      "outputs": []
    },
    {
      "cell_type": "markdown",
      "source": [
        "# Problem 1\n",
        "(5 points)\n",
        "\n",
        "Write a function for the following equation:\n",
        "\n",
        "$$ y(x) = 0.9 x^4 - 12x^2 -5x $$\n",
        "\n",
        "The input to the function is x and it returns y.\n",
        "\n",
        "1. Test that your function returns the correct values for $y(-3)$ and $y(5)$.\n",
        "1. Use the function to make a plot of $y(x)$ for $-4 \\le x \\le 4$."
      ],
      "metadata": {
        "id": "L-__ieiVMoBg"
      }
    },
    {
      "cell_type": "code",
      "execution_count": 32,
      "metadata": {
        "id": "KmIT3UrtMkJj"
      },
      "outputs": [],
      "source": [
        "# Your answer here\n",
        "\n",
        "def Prob1(x):\n",
        "  y=0.9*x**4-12*x**2-5*x\n",
        "  return y"
      ]
    },
    {
      "cell_type": "code",
      "source": [
        "Prob1(-3)\n"
      ],
      "metadata": {
        "id": "ngqL4cLeMB79",
        "colab": {
          "base_uri": "https://localhost:8080/"
        },
        "outputId": "d1f95830-2157-4cfe-d529-d3be8ee647f0"
      },
      "execution_count": 33,
      "outputs": [
        {
          "output_type": "execute_result",
          "data": {
            "text/plain": [
              "-20.099999999999994"
            ]
          },
          "metadata": {},
          "execution_count": 33
        }
      ]
    },
    {
      "cell_type": "code",
      "source": [
        "Prob1(5)"
      ],
      "metadata": {
        "id": "8zJBc66TMJCX",
        "colab": {
          "base_uri": "https://localhost:8080/"
        },
        "outputId": "bc29d9ae-7213-4467-bf0f-e189672608aa"
      },
      "execution_count": 34,
      "outputs": [
        {
          "output_type": "execute_result",
          "data": {
            "text/plain": [
              "237.5"
            ]
          },
          "metadata": {},
          "execution_count": 34
        }
      ]
    },
    {
      "cell_type": "code",
      "source": [
        "x=np.linspace(-4,4,100)\n",
        "y=Prob1(x)\n",
        "\n",
        "plt.plot(x,y)"
      ],
      "metadata": {
        "id": "wwebQeO1MQHw",
        "colab": {
          "base_uri": "https://localhost:8080/",
          "height": 448
        },
        "outputId": "facd2a3d-972f-4508-fbd6-d9b2e3e49e2a"
      },
      "execution_count": 35,
      "outputs": [
        {
          "output_type": "execute_result",
          "data": {
            "text/plain": [
              "[<matplotlib.lines.Line2D at 0x7c703139b670>]"
            ]
          },
          "metadata": {},
          "execution_count": 35
        },
        {
          "output_type": "display_data",
          "data": {
            "text/plain": [
              "<Figure size 640x480 with 1 Axes>"
            ],
            "image/png": "[encoded data removed]"
          },
          "metadata": {}
        }
      ]
    },
    {
      "cell_type": "markdown",
      "source": [
        "# Problem 2\n",
        "(5 points)\n",
        "\n",
        "Write a function that converts polar coordinates to cartesian coordinates.  The function takes $r,\\theta$ and returns $x$ and $y$, where $\\theta$ is in radians.\n",
        "\n",
        "1. Test that your function returns the correct values for $r=1,\\theta=0$ and $r=1,\\theta=\\pi$.\n",
        "1. Use the function to make a plot of the $x$ and $y$ values that correspond to:\n",
        "\n",
        "$$ r: 0 \\le r \\le 1$$\n",
        "$$ \\theta: 0 \\le \\theta \\le 2\\pi $$\n",
        "\n",
        "You should first create the $r$ and $\\theta$ arrays, using 100 elements in each array.\n",
        "\n",
        "3. Recreate the figure above using the plt.scatter command, and color code each point by its index in the array.\n"
      ],
      "metadata": {
        "id": "-TALeCozNMi2"
      }
    },
    {
      "cell_type": "code",
      "source": [
        "# Your answer here\n",
        "r = np.linspace(0, 1, 100)\n",
        "theta = np.linspace(0, 2 * np.pi, 100)\n",
        "\n",
        "x = r * np.cos(theta)\n",
        "y = r * np.sin(theta)\n",
        "\n",
        "plt.scatter(x,y, c=theta)\n"
      ],
      "metadata": {
        "id": "yjAQjkAAOXQH",
        "colab": {
          "base_uri": "https://localhost:8080/",
          "height": 448
        },
        "outputId": "413e20d4-d9fd-4391-984f-84c55344835d"
      },
      "execution_count": 31,
      "outputs": [
        {
          "output_type": "execute_result",
          "data": {
            "text/plain": [
              "<matplotlib.collections.PathCollection at 0x7c703139e5c0>"
            ]
          },
          "metadata": {},
          "execution_count": 31
        },
        {
          "output_type": "display_data",
          "data": {
            "text/plain": [
              "<Figure size 640x480 with 1 Axes>"
            ],
            "image/png": "[encoded data removed]"
          },
          "metadata": {}
        }
      ]
    },
    {
      "cell_type": "markdown",
      "source": [
        "# Problem 3\n",
        "\n",
        "Write a function called guess_number that takes in a number between one and 10 and compares the input with a random integer (using np.random.randint(1,high=10) to select the random number).  \n",
        "\n",
        "\n",
        "\n",
        "*   Call a different random number each time the function is called.\n",
        "*   Make sure the input number is between 1 and 10.  If not, print a warning message.\n",
        "*   If the input number and the random number are the same, print \"You win!\".\n",
        "*   If the input number is 7, print \"Lucky 7s always win!\".\n",
        "*   Otherwise, print a message to let the user know their guess was wrong, and let them know what the random number was.\n",
        "*   Test your function to make sure it works.\n",
        "\n"
      ],
      "metadata": {
        "id": "8J8ecuIyOYWI"
      }
    },
    {
      "cell_type": "code",
      "source": [
        "# Your function should go here\n",
        "def guess_number(input):\n",
        "  random_number = np.random.randint(1, high=10)\n",
        "  if input < 1 or input > 10:\n",
        "      print(\"Please enter a number between 1 and 10.\")\n",
        "  elif input == 7:\n",
        "      print(\"Lucky 7s always win!\")\n",
        "  elif input == random_number:\n",
        "      print(\"You win!\")\n",
        "  else:\n",
        "      print(f\"Better luck next time. The correct number was {random_number}.\")\n",
        "\n",
        "\n",
        "\n"
      ],
      "metadata": {
        "id": "68rydQaVOh7Y"
      },
      "execution_count": 22,
      "outputs": []
    },
    {
      "cell_type": "code",
      "source": [
        "# Put your test code here\n",
        "\n",
        "guess_number(9)\n"
      ],
      "metadata": {
        "id": "v69eoolgLNxi",
        "colab": {
          "base_uri": "https://localhost:8080/"
        },
        "outputId": "30d16664-53c1-4d1a-f62f-4743ac87a368"
      },
      "execution_count": 25,
      "outputs": [
        {
          "output_type": "stream",
          "name": "stdout",
          "text": [
            "Better luck next time. The correct number was 4.\n"
          ]
        }
      ]
    },
    {
      "cell_type": "markdown",
      "source": [
        "# Problem 4\n",
        "\n",
        "(5 points)\n",
        "\n",
        "Watch the video on how to use numpy to solve a system of linear equation.\n",
        "\n",
        "Then use olve the following system of four linear equations:\n",
        "\n",
        "$$ 5x + 4y - 2z + 6 w = 4 $$\n",
        "\n",
        "$$ 3x + 6y + 6z +4.5w = 13.5 $$\n",
        "\n",
        "$$ 6x + 12y -2z +  16w = 20 $$\n",
        "\n",
        "$$ 4x - 2y + 2z - 4w = 6 $$"
      ],
      "metadata": {
        "id": "sJGpiaCBObwG"
      }
    },
    {
      "cell_type": "code",
      "source": [
        "# Your answer here\n",
        "\n",
        "\n",
        "A=np.array([[5,4,-2,6],[3,6,6,4.5],[6,12,-2,16],[4,-2,2,-4]])\n",
        "B=np.array([4,13.5,20,6])\n",
        "\n",
        "np.linalg.solve(A,B)"
      ],
      "metadata": {
        "id": "uXJGMisDOhNi",
        "colab": {
          "base_uri": "https://localhost:8080/"
        },
        "outputId": "7554cd22-5cfa-4011-ec5b-543ac2670479"
      },
      "execution_count": 36,
      "outputs": [
        {
          "output_type": "execute_result",
          "data": {
            "text/plain": [
              "array([ -0.66666667,  31.66666667, -11.33333333, -23.66666667])"
            ]
          },
          "metadata": {},
          "execution_count": 36
        }
      ]
    }
  ]
}