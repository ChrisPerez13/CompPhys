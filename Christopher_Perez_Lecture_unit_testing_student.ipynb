{
  "nbformat": 4,
  "nbformat_minor": 0,
  "metadata": {
    "colab": {
      "provenance": [],
      "include_colab_link": true
    },
    "kernelspec": {
      "name": "python3",
      "display_name": "Python 3"
    },
    "language_info": {
      "name": "python"
    }
  },
  "cells": [
    {
      "cell_type": "markdown",
      "metadata": {
        "id": "view-in-github",
        "colab_type": "text"
      },
      "source": [
        "<a href=\"https://colab.research.google.com/github/ChrisPerez13/CompPhys/blob/main/Christopher_Perez_Lecture_unit_testing_student.ipynb\" target=\"_parent\"><img src=\"https://colab.research.google.com/assets/colab-badge.svg\" alt=\"Open In Colab\"/></a>"
      ]
    },
    {
      "cell_type": "markdown",
      "source": [
        "# Testing\n",
        "\n",
        "* When writing functions and programs, we should be sure to test the output.\n",
        "* You can compare the output to what is expected using assert."
      ],
      "metadata": {
        "id": "oFhxG5FhwaT9"
      }
    },
    {
      "cell_type": "code",
      "execution_count": 1,
      "metadata": {
        "id": "duhXt5_ZHLuh"
      },
      "outputs": [],
      "source": [
        "# define a function that multiplies by 2 and subtracts one\n",
        "def myfunc(x):\n",
        "  y=2*x-1\n",
        "  return y\n"
      ]
    },
    {
      "cell_type": "code",
      "source": [
        "# use assert to test the output when the input is equal to x\n",
        "assert myfunc(0) ==-1"
      ],
      "metadata": {
        "id": "rnke5hHwqNe5"
      },
      "execution_count": 9,
      "outputs": []
    },
    {
      "cell_type": "markdown",
      "source": [
        "# Using `try` and `except`\n",
        "\n",
        "* We can make this a little more sophisticated using the try/except commands.\n",
        "* This will allow us to give information back to the user without causing the testing cell to crash.\n",
        "* We could also tailor the feedback based on what the function returns.\n"
      ],
      "metadata": {
        "id": "DQ1gyLLQyNaD"
      }
    },
    {
      "cell_type": "code",
      "source": [
        "# demo : use try and except to make the code more robust\n",
        "\n",
        "# if the function returns the correct value, congratulate the user\n",
        "\n",
        "# if the function returns a wrong value, print error message to user\n",
        "try:\n",
        "  assert myfunc(0)==1\n",
        "except AssertionError:\n",
        "  print(\"wrong value\")\n"
      ],
      "metadata": {
        "id": "C5EGegacrM0C",
        "colab": {
          "base_uri": "https://localhost:8080/"
        },
        "outputId": "e0a9baa0-e07d-4d3f-f928-960777c81cd0"
      },
      "execution_count": 14,
      "outputs": [
        {
          "output_type": "stream",
          "name": "stdout",
          "text": [
            "wrong value\n"
          ]
        }
      ]
    },
    {
      "cell_type": "markdown",
      "source": [
        "# Your turn\n",
        "\n",
        "follow the instructions below to create a function and test it."
      ],
      "metadata": {
        "id": "OK1Oo-n2yY0O"
      }
    },
    {
      "cell_type": "code",
      "source": [
        "# make a function that squares the input\n",
        "def myfunc2(x):\n",
        "  y=x**2\n",
        "  return y\n"
      ],
      "metadata": {
        "id": "wWFUF590riet"
      },
      "execution_count": 15,
      "outputs": []
    },
    {
      "cell_type": "code",
      "source": [
        "# test with a positive number\n",
        "x=1\n",
        "try:\n",
        "  assert myfunc2(1)==x**2\n",
        "except AssertionError:\n",
        "  print(\"wrong value\")\n",
        "# test with a negative number\n",
        "x=-2\n",
        "try:\n",
        "  assert myfunc2(-2)==x**2\n",
        "except AssertionError:\n",
        "  print(\"wrong value\")\n",
        "# test with zero\n",
        "x=0\n",
        "try:\n",
        "  assert myfunc2(0)==x**2\n",
        "except AssertionError:\n",
        "  print(\"wrong value\")"
      ],
      "metadata": {
        "id": "5Eb332XWm2sn"
      },
      "execution_count": 19,
      "outputs": []
    },
    {
      "cell_type": "markdown",
      "source": [
        "# Create your own example\n",
        "\n",
        "* Create your own function\n",
        "* develop a test code to check the output of the function"
      ],
      "metadata": {
        "id": "f5hjrr1sm0d6"
      }
    },
    {
      "cell_type": "code",
      "source": [
        "def myfunc3(x):\n",
        "  y=x*x**2\n",
        "  return y\n"
      ],
      "metadata": {
        "id": "peT_McuWDoGo"
      },
      "execution_count": 20,
      "outputs": []
    },
    {
      "cell_type": "code",
      "source": [
        "x=0\n",
        "assert myfunc3(0)==x*x**2\n",
        "\n",
        "x=4\n",
        "assert myfunc3(4)==x*x**2\n",
        "\n",
        "x=-40\n",
        "assert myfunc3(-40)==x*x**2\n"
      ],
      "metadata": {
        "id": "CKIuRVtXD1tu"
      },
      "execution_count": 24,
      "outputs": []
    }
  ]
}